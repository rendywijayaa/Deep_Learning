{
 "cells": [
  {
   "cell_type": "code",
   "execution_count": 25,
   "id": "worse-watts",
   "metadata": {},
   "outputs": [],
   "source": [
    "class Manusia:\n",
    "    def __init__(self, warna_rambut, tinggi, berat):\n",
    "        self.warna_rambut = warna_rambut\n",
    "        self.tinggi = tinggi\n",
    "        self.berat = berat\n",
    "        \n",
    "    def cat_rambutnya(self, warna):\n",
    "        self.warna_rambut = warna\n",
    "        print(f\"Rambutnya jadi warna {warna}\")\n",
    "        \n",
    "    def BMI(self):\n",
    "        return self.berat / self.tinggi ** 2"
   ]
  },
  {
   "cell_type": "code",
   "execution_count": 26,
   "id": "developmental-cosmetic",
   "metadata": {},
   "outputs": [],
   "source": [
    "wira = Manusia(\"hitam\", 178, 60)"
   ]
  },
  {
   "cell_type": "code",
   "execution_count": 27,
   "id": "amateur-crown",
   "metadata": {},
   "outputs": [
    {
     "data": {
      "text/plain": [
       "0.0018937002903673778"
      ]
     },
     "execution_count": 27,
     "metadata": {},
     "output_type": "execute_result"
    }
   ],
   "source": [
    "wira.BMI()"
   ]
  },
  {
   "cell_type": "code",
   "execution_count": 18,
   "id": "static-tennessee",
   "metadata": {},
   "outputs": [
    {
     "data": {
      "text/plain": [
       "'hitam'"
      ]
     },
     "execution_count": 18,
     "metadata": {},
     "output_type": "execute_result"
    }
   ],
   "source": [
    "wira.warna_rambut"
   ]
  },
  {
   "cell_type": "code",
   "execution_count": 19,
   "id": "received-underground",
   "metadata": {},
   "outputs": [
    {
     "data": {
      "text/plain": [
       "178"
      ]
     },
     "execution_count": 19,
     "metadata": {},
     "output_type": "execute_result"
    }
   ],
   "source": [
    "wira.tinggi"
   ]
  },
  {
   "cell_type": "code",
   "execution_count": 20,
   "id": "vietnamese-criminal",
   "metadata": {},
   "outputs": [
    {
     "data": {
      "text/plain": [
       "60"
      ]
     },
     "execution_count": 20,
     "metadata": {},
     "output_type": "execute_result"
    }
   ],
   "source": [
    "wira.berat"
   ]
  },
  {
   "cell_type": "code",
   "execution_count": 24,
   "id": "improving-animal",
   "metadata": {},
   "outputs": [
    {
     "name": "stdout",
     "output_type": "stream",
     "text": [
      "Rambutnya jadi warna merah\n"
     ]
    }
   ],
   "source": [
    "wira.cat_rambutnya(\"merah\")"
   ]
  },
  {
   "cell_type": "markdown",
   "id": "aboriginal-museum",
   "metadata": {},
   "source": [
    "# Inheritance"
   ]
  },
  {
   "cell_type": "code",
   "execution_count": 28,
   "id": "medieval-december",
   "metadata": {},
   "outputs": [],
   "source": [
    "class Mahasiswa(Manusia):\n",
    "    def __init__(self, warna_rambut, tinggi, berat, univ):\n",
    "        super().__init__(warna_rambut, tinggi, berat)\n",
    "        self.universitas = univ"
   ]
  },
  {
   "cell_type": "code",
   "execution_count": 29,
   "id": "finished-tours",
   "metadata": {},
   "outputs": [],
   "source": [
    "terry = Mahasiswa(\"hitam\", 150, 45, \"ITB\")"
   ]
  },
  {
   "cell_type": "code",
   "execution_count": 30,
   "id": "relevant-toddler",
   "metadata": {},
   "outputs": [
    {
     "data": {
      "text/plain": [
       "'ITB'"
      ]
     },
     "execution_count": 30,
     "metadata": {},
     "output_type": "execute_result"
    }
   ],
   "source": [
    "terry.universitas"
   ]
  },
  {
   "cell_type": "markdown",
   "id": "extended-maple",
   "metadata": {},
   "source": [
    "\n",
    "# PyTorch NN Module"
   ]
  },
  {
   "cell_type": "code",
   "execution_count": 31,
   "id": "correct-syndrome",
   "metadata": {},
   "outputs": [],
   "source": [
    "import torch\n",
    "from torch import nn"
   ]
  },
  {
   "cell_type": "code",
   "execution_count": 36,
   "id": "domestic-withdrawal",
   "metadata": {},
   "outputs": [],
   "source": [
    "??nn.Module"
   ]
  },
  {
   "cell_type": "code",
   "execution_count": 37,
   "id": "understanding-israel",
   "metadata": {},
   "outputs": [],
   "source": [
    "class CustomNN(nn.Module):\n",
    "    def __init__ (self, input_size, output_size):\n",
    "        super().__init__()\n",
    "        self.fc = nn.Sequential(\n",
    "            nn.Linear(input_size, 16),\n",
    "            nn.ReLU(),\n",
    "            nn.Linear(16, 8),\n",
    "            nn.ReLU(),\n",
    "            nn.Linear(8, output_size),\n",
    "            nn.Sigmoid()\n",
    "        )\n",
    "        \n",
    "    def forward(self, x):\n",
    "        return self.fc(x)\n",
    "        "
   ]
  },
  {
   "cell_type": "code",
   "execution_count": null,
   "id": "miniature-mauritius",
   "metadata": {},
   "outputs": [],
   "source": [
    "class FaceBiometric(nn.Module):\n",
    "    def __init__ (self, input_size, output_size):\n",
    "        super().__init__()\n",
    "        self.fc = nn.Sequential(\n",
    "            nn.Linear(input_size, 16),\n",
    "            nn.ReLU(),\n",
    "\n",
    "        )\n",
    "        \n",
    "        self.reg = nn.Linear(16, 4)\n",
    "        self.clf = nn.Sequential(\n",
    "            nn.Linear(16,4)\n",
    "            nn.Sigmoid()\n",
    "        )\n",
    "                \n",
    "    def forward(self, x):\n",
    "        x = self.fc(x)\n",
    "        pred_reg = self.reg(x)\n",
    "        pred_clf = self.clf(x)\n",
    "        return pred_reg, pred_clf"
   ]
  },
  {
   "cell_type": "code",
   "execution_count": 38,
   "id": "muslim-modem",
   "metadata": {},
   "outputs": [],
   "source": [
    "model = CustomNN(7, 1)"
   ]
  },
  {
   "cell_type": "code",
   "execution_count": 39,
   "id": "vocational-commons",
   "metadata": {},
   "outputs": [],
   "source": [
    "contoh_data = torch.rand(100, 7)"
   ]
  },
  {
   "cell_type": "code",
   "execution_count": 42,
   "id": "unable-nelson",
   "metadata": {},
   "outputs": [
    {
     "data": {
      "text/plain": [
       "tensor([[0.4672],\n",
       "        [0.4665],\n",
       "        [0.4711],\n",
       "        [0.4636],\n",
       "        [0.4759],\n",
       "        [0.4697],\n",
       "        [0.4759],\n",
       "        [0.4626],\n",
       "        [0.4603],\n",
       "        [0.4686],\n",
       "        [0.4619],\n",
       "        [0.4729],\n",
       "        [0.4663],\n",
       "        [0.4575],\n",
       "        [0.4590],\n",
       "        [0.4613],\n",
       "        [0.4757],\n",
       "        [0.4664],\n",
       "        [0.4732],\n",
       "        [0.4601],\n",
       "        [0.4685],\n",
       "        [0.4776],\n",
       "        [0.4633],\n",
       "        [0.4652],\n",
       "        [0.4734],\n",
       "        [0.4641],\n",
       "        [0.4668],\n",
       "        [0.4624],\n",
       "        [0.4848],\n",
       "        [0.4771],\n",
       "        [0.4592],\n",
       "        [0.4684],\n",
       "        [0.4703],\n",
       "        [0.4690],\n",
       "        [0.4665],\n",
       "        [0.4724],\n",
       "        [0.4804],\n",
       "        [0.4746],\n",
       "        [0.4715],\n",
       "        [0.4804],\n",
       "        [0.4691],\n",
       "        [0.4813],\n",
       "        [0.4587],\n",
       "        [0.4791],\n",
       "        [0.4696],\n",
       "        [0.4670],\n",
       "        [0.4608],\n",
       "        [0.4734],\n",
       "        [0.4661],\n",
       "        [0.4638],\n",
       "        [0.4696],\n",
       "        [0.4761],\n",
       "        [0.4711],\n",
       "        [0.4680],\n",
       "        [0.4785],\n",
       "        [0.4679],\n",
       "        [0.4678],\n",
       "        [0.4641],\n",
       "        [0.4792],\n",
       "        [0.4646],\n",
       "        [0.4714],\n",
       "        [0.4725],\n",
       "        [0.4699],\n",
       "        [0.4660],\n",
       "        [0.4677],\n",
       "        [0.4638],\n",
       "        [0.4743],\n",
       "        [0.4645],\n",
       "        [0.4657],\n",
       "        [0.4677],\n",
       "        [0.4665],\n",
       "        [0.4788],\n",
       "        [0.4798],\n",
       "        [0.4721],\n",
       "        [0.4819],\n",
       "        [0.4588],\n",
       "        [0.4678],\n",
       "        [0.4689],\n",
       "        [0.4565],\n",
       "        [0.4699],\n",
       "        [0.4744],\n",
       "        [0.4779],\n",
       "        [0.4713],\n",
       "        [0.4727],\n",
       "        [0.4658],\n",
       "        [0.4744],\n",
       "        [0.4675],\n",
       "        [0.4721],\n",
       "        [0.4733],\n",
       "        [0.4657],\n",
       "        [0.4705],\n",
       "        [0.4782],\n",
       "        [0.4645],\n",
       "        [0.4716],\n",
       "        [0.4758],\n",
       "        [0.4755],\n",
       "        [0.4743],\n",
       "        [0.4641],\n",
       "        [0.4703],\n",
       "        [0.4686]], grad_fn=<SigmoidBackward>)"
      ]
     },
     "execution_count": 42,
     "metadata": {},
     "output_type": "execute_result"
    }
   ],
   "source": [
    "output = model(contoh_data)\n",
    "output"
   ]
  },
  {
   "cell_type": "code",
   "execution_count": null,
   "id": "ranking-stranger",
   "metadata": {},
   "outputs": [],
   "source": []
  },
  {
   "cell_type": "code",
   "execution_count": null,
   "id": "chief-bulgarian",
   "metadata": {},
   "outputs": [],
   "source": []
  },
  {
   "cell_type": "code",
   "execution_count": null,
   "id": "significant-reducing",
   "metadata": {},
   "outputs": [],
   "source": []
  },
  {
   "cell_type": "code",
   "execution_count": null,
   "id": "sensitive-wings",
   "metadata": {},
   "outputs": [],
   "source": []
  },
  {
   "cell_type": "code",
   "execution_count": null,
   "id": "flush-plaza",
   "metadata": {},
   "outputs": [],
   "source": []
  }
 ],
 "metadata": {
  "kernelspec": {
   "display_name": "Python [conda env:jcopdl]",
   "language": "python",
   "name": "conda-env-jcopdl-py"
  },
  "language_info": {
   "codemirror_mode": {
    "name": "ipython",
    "version": 3
   },
   "file_extension": ".py",
   "mimetype": "text/x-python",
   "name": "python",
   "nbconvert_exporter": "python",
   "pygments_lexer": "ipython3",
   "version": "3.7.6"
  }
 },
 "nbformat": 4,
 "nbformat_minor": 5
}
